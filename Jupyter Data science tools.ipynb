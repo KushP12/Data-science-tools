{
 "cells": [
  {
   "cell_type": "markdown",
   "id": "392fe1c4-a4fe-4544-936c-e1d314f5b8f7",
   "metadata": {},
   "source": [
    "# Data science tools and ecosystem"
   ]
  },
  {
   "cell_type": "markdown",
   "id": "f71be3bd-aecb-4869-b908-920a5904b5fb",
   "metadata": {},
   "source": [
    "### In this notebook, Data Science Tools and Ecosystem are summarized."
   ]
  },
  {
   "cell_type": "markdown",
   "id": "249f4c68-d254-4505-b4e3-1af2d074a836",
   "metadata": {},
   "source": [
    "__Objectives:__\n",
    "* Popular data science languages\n",
    "* Popular data science libraries\n",
    "* Popular data science tools\n",
    "* Evaluating aritmetic expressions in python"
   ]
  },
  {
   "cell_type": "markdown",
   "id": "b396ce13-5e9a-47ce-8fb2-d68eab29cf15",
   "metadata": {},
   "source": [
    "#### Some of the popular languages data science uses are:\n",
    "1. Python\n",
    "2. R\n",
    "3. Julia\n",
    "4. Java\n",
    "5. C++"
   ]
  },
  {
   "cell_type": "markdown",
   "id": "c5d7480d-317e-4f5d-a802-54587b89acf4",
   "metadata": {},
   "source": [
    "#### Some of the commonly used libraries by data scientists include:\n",
    "1. Matplotlib\n",
    "2. NumPy\n",
    "3. SciPy\n",
    "4. SciKit\n",
    "5. TensorFlow"
   ]
  },
  {
   "cell_type": "markdown",
   "id": "ba5bce82-467a-4d2a-beb6-e4029e9b49a3",
   "metadata": {},
   "source": [
    "|Data science tools|\n",
    "|------------------|\n",
    "|Apache Spark|\n",
    "|Jupyter Notebook|\n",
    "|R Studio|"
   ]
  },
  {
   "cell_type": "markdown",
   "id": "1c64c0cd-2847-4d82-bebf-98ceef472864",
   "metadata": {},
   "source": [
    "### Below are a few examples of evaluating arithmetic expressions in Python:\n"
   ]
  },
  {
   "cell_type": "code",
   "execution_count": 2,
   "id": "11974688-a927-4f59-9458-9bb5cfbbae25",
   "metadata": {},
   "outputs": [
    {
     "data": {
      "text/plain": [
       "17"
      ]
     },
     "execution_count": 2,
     "metadata": {},
     "output_type": "execute_result"
    }
   ],
   "source": [
    "#This is a simple arithmetic expression to multiply 2 numbers together and then add a number after that:\n",
    "(3*4)+5"
   ]
  },
  {
   "cell_type": "code",
   "execution_count": 3,
   "id": "892ae49b-5ca9-4e0e-8fc9-999bc8af6e1c",
   "metadata": {},
   "outputs": [
    {
     "data": {
      "text/plain": [
       "3.3333333333333335"
      ]
     },
     "execution_count": 3,
     "metadata": {},
     "output_type": "execute_result"
    }
   ],
   "source": [
    "# This code will convert 200 minutes into hours by dividing by 60:\n",
    "200/60"
   ]
  },
  {
   "cell_type": "markdown",
   "id": "8c0f7957-483a-47a8-8f18-2ba06ab7cb4a",
   "metadata": {},
   "source": [
    "## Author:\n",
    "Kush Pandey"
   ]
  },
  {
   "cell_type": "code",
   "execution_count": null,
   "id": "91d144d9-db8e-49e4-a97e-f20db0a3c5b9",
   "metadata": {},
   "outputs": [],
   "source": []
  }
 ],
 "metadata": {
  "kernelspec": {
   "display_name": "Python 3 (ipykernel)",
   "language": "python",
   "name": "python3"
  },
  "language_info": {
   "codemirror_mode": {
    "name": "ipython",
    "version": 3
   },
   "file_extension": ".py",
   "mimetype": "text/x-python",
   "name": "python",
   "nbconvert_exporter": "python",
   "pygments_lexer": "ipython3",
   "version": "3.11.9"
  }
 },
 "nbformat": 4,
 "nbformat_minor": 5
}
